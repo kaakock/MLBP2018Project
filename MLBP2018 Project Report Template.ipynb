{
 "cells": [
  {
   "cell_type": "markdown",
   "metadata": {},
   "source": [
    "**Machine Learning Basic Principles 2018 - Data Analysis Project Report**"
   ]
  },
  {
   "cell_type": "markdown",
   "metadata": {},
   "source": [
    "*All the text in italics is instructions for filling the template - remove when writing the project report!*"
   ]
  },
  {
   "cell_type": "markdown",
   "metadata": {},
   "source": [
    "# *Title* "
   ]
  },
  {
   "cell_type": "markdown",
   "metadata": {},
   "source": [
    "*Title should be concise and informative, describes the approach to solve the problem. Some good titles from previous years:*\n",
    "\n",
    "*- Comparing extreme learning machines and naive bayes’ classifier in spam detection*\n",
    "\n",
    "*- Using linear discriminant analysis in spam detection*\n",
    "\n",
    "*Some not-so-good titles:*\n",
    "\n",
    "*- Bayesian spam filtering with extras*\n",
    "\n",
    "*- Two-component classifier for spam detection*\n",
    "\n",
    "*- CS-E3210 Term Project, final report*\n",
    "\n",
    "\n"
   ]
  },
  {
   "cell_type": "markdown",
   "metadata": {},
   "source": [
    "## Abstract"
   ]
  },
  {
   "cell_type": "markdown",
   "metadata": {},
   "source": [
    "*Precise summary of the whole report, previews the contents and results. Must be a single paragraph between 100 and 200 words.*\n",
    "\n"
   ]
  },
  {
   "cell_type": "markdown",
   "metadata": {},
   "source": [
    "## 1. Introduction"
   ]
  },
  {
   "cell_type": "markdown",
   "metadata": {},
   "source": [
    "*Background, problem statement, motivation, many references, description of\n",
    "contents. Introduces the reader to the topic and the broad context within which your\n",
    "research/project fits*\n",
    "\n",
    "*- What do you hope to learn from the project?*\n",
    "*- What question is being addressed?*\n",
    "*- Why is this task important? (motivation)*\n",
    "\n",
    "*Keep it short (half to 1 page).*\n",
    "\n"
   ]
  },
  {
   "cell_type": "markdown",
   "metadata": {},
   "source": [
    "## 2. Data analysis"
   ]
  },
  {
   "cell_type": "markdown",
   "metadata": {},
   "source": [
    "*Briefly describe data (class distribution, dimensionality) and how will it affect\n",
    "classification. Visualize the data. Don’t focus too much on the meaning of the features,\n",
    "unless you want to.*\n",
    "\n",
    "*- Include histograms showing class distribution.*\n",
    "\n"
   ]
  },
  {
   "cell_type": "code",
   "execution_count": 142,
   "metadata": {
    "scrolled": false
   },
   "outputs": [
    {
     "name": "stdout",
     "output_type": "stream",
     "text": [
      "(2182, 264)\n"
     ]
    },
    {
     "data": {
      "image/png": "[encoded data removed]",
      "text/plain": [
       "<Figure size 864x432 with 1 Axes>"
      ]
     },
     "metadata": {
      "needs_background": "light"
     },
     "output_type": "display_data"
    }
   ],
   "source": [
    "# Import libraries\n",
    "import pandas as pd\n",
    "import numpy as np\n",
    "import matplotlib.pyplot as plt\n",
    "from sklearn.neural_network import MLPClassifier\n",
    "from sklearn.metrics import confusion_matrix, log_loss\n",
    "from sklearn.preprocessing import StandardScaler\n",
    "from sklearn import datasets\n",
    "from sklearn.multiclass import OneVsRestClassifier\n",
    "from sklearn.svm import LinearSVC\n",
    "from sklearn.linear_model import LogisticRegression\n",
    "from sklearn.calibration import CalibratedClassifierCV\n",
    "from sklearn.decomposition import PCA\n",
    "from sklearn.model_selection import cross_val_score\n",
    "scaler = StandardScaler()\n",
    "\n",
    "test_data = pd.read_csv(\"./test_data.csv\", header=None).values\n",
    "train_data = pd.read_csv(\"./train_data.csv\", header=None).values\n",
    "train_labels = pd.read_csv(\"./train_labels.csv\", header=None).values\n",
    "# Use every second item of train_data as confirmation data set and every second as training set\n",
    "scaler.fit(train_data[::2])\n",
    "confirm_set = scaler.transform(train_data[1::2])\n",
    "confirm_labels = np.ravel(train_labels[1::2])\n",
    "train_set = scaler.transform(train_data[::2])\n",
    "train_labels = np.ravel(train_labels[::2])\n",
    "test_data = scaler.transform(test_data)\n",
    "\n",
    "\n",
    "classes = [\n",
    "    \"Pop_Rock\",\n",
    "    \"Electronic\",\n",
    "    \"Rap\",\n",
    "    \"Jazz\",\n",
    "    \"Latin\",\n",
    "    \"RnB\",\n",
    "    \"International\",\n",
    "    \"Country\",\n",
    "    \"Reggae\",\n",
    "    \"Blues\"\n",
    "]\n",
    "unique, counts = np.unique(train_labels, return_counts=True)\n",
    "print(train_set.shape)\n",
    "fig, ax = plt.subplots(1, 1, figsize=(12, 6))\n",
    "hist = ax.bar(classes, counts)\n",
    "ax.set_xlabel(\"Class\")\n",
    "ax.set_ylabel(\"n of samples\")\n",
    "plt.show()"
   ]
  },
  {
   "cell_type": "code",
   "execution_count": 144,
   "metadata": {},
   "outputs": [],
   "source": [
    "# Load the data and cleanup\n",
    "\n",
    "# CLF.fit Takes to parameters data X shape(n_samples, n_features) and labels Y shape(n_samples\n",
    "def train_clf_with_params(solver, alpha, hidden_layer_sizes, random_state, X, Y):\n",
    "    clf = MLPClassifier(solver=solver, alpha=alpha, hidden_layer_sizes=hidden_layer_sizes, random_state=random_state, shuffle=True)\n",
    "    clf.fit(X, Y)\n",
    "    return clf\n",
    "\n",
    "def test_clf(clf, X, Y_true):\n",
    "    Y_pred = clf.predict(X)\n",
    "    score = clf.score(X, Y_true)\n",
    "    Y_pred_proba = clf.predict_proba(X)\n",
    "    loss = log_loss(Y_true, Y_pred_proba)\n",
    "    return (score, loss, Y_pred)\n",
    "    \n",
    "\n",
    "def OneVsRest(X,y):\n",
    "    svm = LinearSVC()\n",
    "    clf = CalibratedClassifierCV(svm) \n",
    "    clf.fit(X, y)\n",
    "    return clf\n",
    "\n",
    "def testOneVsRest(clf, X, Y_true):\n",
    "    predictions = clf.predict(X)\n",
    "    Y_pred = clf.predict(X)\n",
    "    score = clf.score(X, Y_true)\n",
    "    Y_pred_proba = clf.predict_proba(X)\n",
    "    loss = log_loss(Y_true, Y_pred_proba)\n",
    "    return (score, loss, Y_pred)\n",
    "\n",
    "def train_log_reg(X, Y):\n",
    "    clf = LogisticRegression()\n",
    "    clf.fit(X, Y)\n",
    "    return clf\n",
    "\n",
    "\n",
    "def cross_cv_clf(clf, X, Y_true):\n",
    "    scores = cross_val_score(clf, X, Y_true, cv=5)\n",
    "    print(\"Accuracy: %0.2f (+/- %0.2f)\" % (scores.mean(), scores.std() * 2))\n",
    "\n",
    "def test_log_reg(clf, X, Y_true):\n",
    "    predictions = clf.predict(X)\n",
    "    Y_pred = clf.predict(X)\n",
    "    score = clf.score(X, Y_true)\n",
    "    Y_pred_proba = clf.predict_proba(X)\n",
    "    loss = log_loss(Y_true, Y_pred_proba)\n",
    "    \n",
    "    return (score, loss, Y_pred)\n"
   ]
  },
  {
   "cell_type": "code",
   "execution_count": 146,
   "metadata": {},
   "outputs": [
    {
     "name": "stdout",
     "output_type": "stream",
     "text": [
      "Starting iteration\n",
      "Accuracy: 0.58 (+/- 0.04)\n",
      "Accuracy: 0.58 (+/- 0.01)\n",
      "Accuracy: 0.59 (+/- 0.03)\n",
      "Accuracy: 0.59 (+/- 0.04)\n",
      "Accuracy: 0.58 (+/- 0.07)\n",
      "Accuracy: 0.53 (+/- 0.05)\n",
      "Accuracy: 0.59 (+/- 0.06)\n",
      "Accuracy: 0.51 (+/- 0.06)\n",
      "Accuracy: 0.58 (+/- 0.05)\n",
      "LOSS 1.9471384024923806\n",
      "VALUE ((2, 226), 'lbfgs')\n",
      "SCORE 0.5955983493810179\n",
      "VALUE ((220, 109), 'lbfgs')\n",
      "OneVsRest\n",
      "Score: 0.5891792755616689\n",
      "log_loss: 1.2901627946349985\n",
      "Accuracy: 0.58 (+/- 0.02)\n",
      "Logistic regression\n",
      "Score: 0.6235671710224667\n",
      "log_loss: 1.3440332207684802\n",
      "Accuracy: 0.63 (+/- 0.04)\n"
     ]
    }
   ],
   "source": [
    "#Analysis of the input data\n",
    "# ...\n",
    "#MLPC\n",
    "mean = int(np.mean([train_set.shape[1], 10]))\n",
    "# TEST MLC\n",
    "datalen = 200\n",
    "data2 = np.random.randint(1, high=train_set.shape[1], size=datalen)\n",
    "data1 = [\n",
    "    (15, )\n",
    "]\n",
    "data = [\n",
    "    (mean, ),\n",
    "    (161, 150),\n",
    "    (161, 20),\n",
    "    (150, ),\n",
    "    (161, ),\n",
    "    (2, 226),\n",
    "    (220, 109),\n",
    "    (15, 10),\n",
    "    (144, )\n",
    "]\n",
    "best_loss = 100\n",
    "best_score = 0\n",
    "best_score_val = 0\n",
    "best_loss_val = 0\n",
    "best_score_clf = None\n",
    "best_loss_clf = None\n",
    "print(\"Starting iteration\")\n",
    "for i in data:\n",
    "    clf = train_clf_with_params(s, 1e-5, i, 1, train_set, train_labels)\n",
    "    cross_cv_clf(clf, train_set, train_labels)\n",
    "    score, loss, predictions = test_clf(clf, confirm_set, confirm_labels)\n",
    "    if (score > best_score):\n",
    "        best_score = score\n",
    "        best_score_val = (i, s)\n",
    "        best_score_clf = clf\n",
    "    if (best_loss > loss):\n",
    "        best_loss = loss\n",
    "        best_loss_val = (i, s)\n",
    "        best_loss_clf = clf\n",
    "print(\"LOSS \" + str(best_loss))\n",
    "print(\"VALUE \" + str(best_loss_val))\n",
    "print(\"SCORE \" + str(best_score))\n",
    "print(\"VALUE \" + str(best_score_val))\n",
    "\n",
    "#One vs rest\n",
    "X, y = train_set, train_labels\n",
    "clf = OneVsRest(X,y)\n",
    "(score, loss, pred) = testOneVsRest(clf, confirm_set, confirm_labels)\n",
    "print(\"OneVsRest\")\n",
    "print(\"Score: \" + str(score))\n",
    "print(\"log_loss: \" + str(loss))\n",
    "cross_cv_clf(clf, train_set, train_labels)\n",
    "if (score > best_score):\n",
    "    best_score = score\n",
    "    best_score_val = (i, s)\n",
    "    #best_score_clf = clf\n",
    "if (best_loss > loss):\n",
    "    best_loss = loss\n",
    "    best_loss_val = (i, s)\n",
    "    #best_loss_clf = clf\n",
    "    \n",
    "clf = train_log_reg(X,y)\n",
    "(score, loss, pred) =test_clf(clf, confirm_set, confirm_labels)\n",
    "print(\"Logistic regression\")\n",
    "print(\"Score: \" + str(score))\n",
    "print(\"log_loss: \" + str(loss))\n",
    "cross_cv_clf(clf, train_set, train_labels)\n",
    "if (score > best_score):\n",
    "    best_score = score\n",
    "    best_score_val = (i, s)\n",
    "    best_score_clf = clf\n",
    "if (best_loss > loss):\n",
    "    best_loss = loss\n",
    "    best_loss_val = (i, s)\n",
    "    best_loss_clf = clf\n",
    "\n",
    "log_loss_predictions = best_loss_clf.predict_proba(test_data)\n",
    "score_predictions = best_score_clf.predict(test_data)"
   ]
  },
  {
   "cell_type": "markdown",
   "metadata": {},
   "source": [
    "## 3. Methods and experiments"
   ]
  },
  {
   "cell_type": "markdown",
   "metadata": {},
   "source": [
    "*- Explain your whole approach (you can include a block diagram showing the steps in your process).* \n",
    "\n",
    "*- What methods/algorithms, why were the methods chosen. *\n",
    "\n",
    "*- What evaluation methodology (cross CV, etc.).*\n",
    "\n"
   ]
  },
  {
   "cell_type": "code",
   "execution_count": 141,
   "metadata": {},
   "outputs": [
    {
     "name": "stdout",
     "output_type": "stream",
     "text": [
      "(6544, 10)\n"
     ]
    }
   ],
   "source": [
    "# Trials with ML algorithms\n",
    "log_loss_headers = [\n",
    "    \"Class_1\",\n",
    "    \"Class_2\",\n",
    "    \"Class_3\",\n",
    "    \"Class_4\",\n",
    "    \"Class_5\",\n",
    "    \"Class_6\",\n",
    "    \"Class_7\",\n",
    "    \"Class_8\",\n",
    "    \"Class_9\",\n",
    "    \"Class_10\",\n",
    "]\n",
    "print(log_loss_predictions.shape)\n",
    "log_loss_predictions = pd.DataFrame(log_loss_predictions)\n",
    "score_predictions = pd.DataFrame(score_predictions)\n",
    "score_predictions.index = range(1,len(score_predictions)+1)\n",
    "log_loss_predictions.index = range(1,len(log_loss_predictions)+1)\n",
    "score_predictions.to_csv(\"./score_results.csv\", index_label=\"Sample_id\", header=[\"Sample_label\"])\n",
    "log_loss_predictions.to_csv(\"./log_loss_results.csv\", index_label=\"Sample_id\", header=log_loss_headers)"
   ]
  },
  {
   "cell_type": "markdown",
   "metadata": {},
   "source": [
    "## 4. Results"
   ]
  },
  {
   "cell_type": "markdown",
   "metadata": {},
   "source": [
    "*Summarize the results of the experiments without discussing their implications.*\n",
    "\n",
    "*- Include both performance measures (accuracy and LogLoss).*\n",
    "\n",
    "*- How does it perform on kaggle compared to the train data.*\n",
    "\n",
    "*- Include a confusion matrix.*\n",
    "\n"
   ]
  },
  {
   "cell_type": "code",
   "execution_count": 5,
   "metadata": {
    "collapsed": true
   },
   "outputs": [],
   "source": [
    "#Confusion matrix ..."
   ]
  },
  {
   "cell_type": "markdown",
   "metadata": {},
   "source": [
    "## 5. Discussion/Conclusions"
   ]
  },
  {
   "cell_type": "markdown",
   "metadata": {},
   "source": [
    "*Interpret and explain your results *\n",
    "\n",
    "*- Discuss the relevance of the performance measures (accuracy and LogLoss) for\n",
    "imbalanced multiclass datasets. *\n",
    "\n",
    "*- How the results relate to the literature. *\n",
    "\n",
    "*- Suggestions for future research/improvement. *\n",
    "\n",
    "*- Did the study answer your questions? *\n",
    "\n"
   ]
  },
  {
   "cell_type": "markdown",
   "metadata": {},
   "source": [
    "## 6. References"
   ]
  },
  {
   "cell_type": "markdown",
   "metadata": {},
   "source": [
    "*List of all the references cited in the document*"
   ]
  },
  {
   "cell_type": "markdown",
   "metadata": {},
   "source": [
    "## Appendix\n",
    "*Any additional material needed to complete the report can be included here. For example, if you want to keep  additional source code, additional images or plots, mathematical derivations, etc. The content should be relevant to the report and should help explain or visualize something mentioned earlier. **You can remove the whole Appendix section if there is no need for it.** *"
   ]
  },
  {
   "cell_type": "code",
   "execution_count": null,
   "metadata": {
    "collapsed": true
   },
   "outputs": [],
   "source": []
  }
 ],
 "metadata": {
  "kernelspec": {
   "display_name": "Python 3",
   "language": "python",
   "name": "python3"
  },
  "language_info": {
   "codemirror_mode": {
    "name": "ipython",
    "version": 3
   },
   "file_extension": ".py",
   "mimetype": "text/x-python",
   "name": "python",
   "nbconvert_exporter": "python",
   "pygments_lexer": "ipython3",
   "version": "3.7.0"
  }
 },
 "nbformat": 4,
 "nbformat_minor": 2
}
