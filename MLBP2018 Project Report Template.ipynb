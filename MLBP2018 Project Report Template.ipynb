{
 "cells": [
  {
   "cell_type": "markdown",
   "metadata": {},
   "source": [
    "**Machine Learning Basic Principles 2018 - Data Analysis Project Report**"
   ]
  },
  {
   "cell_type": "markdown",
   "metadata": {},
   "source": [
    "*All the text in italics is instructions for filling the template - remove when writing the project report!*"
   ]
  },
  {
   "cell_type": "markdown",
   "metadata": {},
   "source": [
    "# *Music genre detection; a practical approach using LinearSupport Vector Classifier and Multi-layer Perceptron Classifier* "
   ]
  },
  {
   "cell_type": "markdown",
   "metadata": {},
   "source": [
    "\n"
   ]
  },
  {
   "cell_type": "markdown",
   "metadata": {},
   "source": [
    "## Abstract"
   ]
  },
  {
   "cell_type": "markdown",
   "metadata": {},
   "source": [
    "*Precise summary of the whole report, previews the contents and results. Must be a single paragraph between 100 and 200 words.*\n",
    "\n"
   ]
  },
  {
   "cell_type": "markdown",
   "metadata": {},
   "source": [
    "## 1. Introduction"
   ]
  },
  {
   "cell_type": "markdown",
   "metadata": {},
   "source": [
    "Identifying the genre of a song can be a difficult even for trained professionals. One can easily recognize Heavy Metal and Jazz from each other, but in many cases assigning some song to a genre is a complex task. Machine learning can provide a efficient solution for identifying a songs genre even from a relatively short sample. It is easy to classify a handful of songs just by listening all of them, but it is inefficient and expensive when we are talking about of scales of millions of songs. For example, it would take over 50 years of continuous work, if one would classify all songs Spotify has in their library.\n",
    "We hope to learn how to implement machine learning methods in practice. This includes\n",
    "all aspects of creating a machine learning solution, from modifying the data to match our needs to choosing the most efficient solution available. Also this assignment was able to showcase the power of machine learning, as it would be impossible to analyse a song from such a limited amount of data. Our study should answer to two questions:\n",
    "- Is it possible to classify music by genre from short samples?\n",
    "- Which methods are effective for classifying music?\n",
    "\n",
    "The second qustion is a continuation of the first and thus we should first figure out the answer to the first question. Thats why we started the assignment by trying out different classifying methods and figuring out if any of them could actually predict the genres of a song."
   ]
  },
  {
   "cell_type": "markdown",
   "metadata": {},
   "source": [
    "## 2. Data analysis"
   ]
  },
  {
   "cell_type": "markdown",
   "metadata": {},
   "source": [
    "The data used for this project consists of a test data set containing 4363 samples of songs described by 264 features. For this test data set, we have a data set of the correct labels from 1 to 10, indicating one of the ten labeled music genres. One song has been assigned only one music genre, which makes tackling this problem easier. The 264 features are divided into groups of the three main components to describe music: timbre, pitch and rhythm. The training data consists of 6544 samples, for which the labels were predicted according to the tested methodologies."
   ]
  },
  {
   "cell_type": "code",
   "execution_count": 64,
   "metadata": {
    "scrolled": false
   },
   "outputs": [
    {
     "data": {
      "image/png": "[encoded data removed]",
      "text/plain": [
       "<Figure size 864x432 with 1 Axes>"
      ]
     },
     "metadata": {
      "needs_background": "light"
     },
     "output_type": "display_data"
    }
   ],
   "source": [
    "# Import libraries\n",
    "import itertools\n",
    "import pandas as pd\n",
    "import numpy as np\n",
    "import matplotlib.pyplot as plt\n",
    "from sklearn.neural_network import MLPClassifier\n",
    "from sklearn.metrics import confusion_matrix, log_loss, classification_report\n",
    "from sklearn.preprocessing import StandardScaler\n",
    "from sklearn import datasets\n",
    "from sklearn.multiclass import OneVsRestClassifier\n",
    "from sklearn.svm import LinearSVC\n",
    "from sklearn.linear_model import LogisticRegression\n",
    "from sklearn.calibration import CalibratedClassifierCV\n",
    "from sklearn.model_selection import GridSearchCV\n",
    "from sklearn.decomposition import PCA\n",
    "from sklearn.model_selection import cross_val_score\n",
    "from sklearn.model_selection import StratifiedKFold\n",
    "from sklearn.model_selection import train_test_split\n",
    "\n",
    "\n",
    "\n",
    "test_data = pd.read_csv(\"./test_data.csv\", header=None).values\n",
    "train_data = pd.read_csv(\"./train_data.csv\", header=None).values\n",
    "train_labels = pd.read_csv(\"./train_labels.csv\", header=None).values\n",
    "\n",
    "# Use every second item of train_data as confirmation data set and every second as training set\n",
    "\n",
    "classes = [\n",
    "    \"Pop_Rock\",\n",
    "    \"Electronic\",\n",
    "    \"Rap\",\n",
    "    \"Jazz\",\n",
    "    \"Latin\",\n",
    "    \"RnB\",\n",
    "    \"International\",\n",
    "    \"Country\",\n",
    "    \"Reggae\",\n",
    "    \"Blues\"\n",
    "]\n",
    "unique, counts = np.unique(train_labels, return_counts=True)\n",
    "fig, ax = plt.subplots(1, 1, figsize=(12, 6))\n",
    "hist = ax.bar(classes, counts)\n",
    "ax.set_xlabel(\"Class\")\n",
    "ax.set_ylabel(\"n of samples\")\n",
    "plt.show()"
   ]
  },
  {
   "cell_type": "code",
   "execution_count": 67,
   "metadata": {},
   "outputs": [],
   "source": [
    "# Load the data and cleanup\n",
    "# We also normalise the data in a way that it is in a suitable form for the scikit-learn methods\n",
    "scaler = StandardScaler()\n",
    "scaler.fit(train_data)\n",
    "test_data = scaler.transform(test_data)\n",
    "train_data = scaler.transform(train_data)\n",
    "train_labels = np.ravel(train_labels)\n",
    "\n",
    "train_set, confirm_set, train_set_labels, confirm_set_labels = train_test_split(train_data, train_labels, test_size=0.5, random_state=3)\n",
    "\n"
   ]
  },
  {
   "cell_type": "markdown",
   "metadata": {},
   "source": [
    "## 3. Methods and experiments"
   ]
  },
  {
   "cell_type": "markdown",
   "metadata": {},
   "source": [
    "After analysing the data, we decided to test out multiple different algorithms. We chose three different classifier solutions: Logistic Regression, Linear Support Vector Classification (later. Linear SVC) and Multilayer Perceptron classifier (later. MLPC). The implementations for these algorithms were from scikit-learn library as it provides efficient solutions with great features for optimization. At this point we had standardised our data-set using scikit learns StandardScaler-method. We fitted the scaler using the whole dataset. After fitting we split the data pseudo-randomly into two equally sized datasets for training and validation. This was done to avoid overfitting the classifiers (Jung, 2018).\n",
    "\n",
    "First we tested Logistic regression. We used the scikit-learn librarys version of Logistic Regression classifier. Logistic regression (Jung, 2018) is method in which gradient descent can be utilised to minimise the logistic loss:\n",
    "$$\\mathcal{E} (w|\\mathbb{X}) = (1 / N)\\sum_{i=1}^{N} log(1 + exp(-y^{(i)}h^{(w)}x^{(i)}))$$\n",
    "Where the set of labeled training data $$\\mathbb{X} = \\{ x^{(i)}, y^{(i)}\\}^N_{i=1}$$ and h is a linear map $$h(x) = w^Tx$$\n",
    "We tested the basic implementation with default parameters provided by the library and it seemed to work rather well as it.\n",
    "\n",
    "The second classifier we tested was the Linear SVC. Support vector machines support discrete classifying problems (Jung, 2018) and should work well with smaller datasets. It should be stated that our dataset is not really dicrete and the classification is artificial as most of the classess have some overlap. (A song can be interpreted as a part of many genres instead of one). Linear SVC and logistic regression are really close in terms of mathematics, but have one clear distinction: linear SVC uses hinge error as a loss function. The problem with linear SVC and other SVM based methods is the increasing computational difficulty when used on larger datasets (Jung, 2018).\n",
    "\n",
    "\n",
    "Our final method was MLPC which is a simple neural network. The network consist of a input, output and n >= 1 hidden layers. The hidden layers enable non-linear predictions by applying functions to the inputs which are not applicable by a single function (Multilayer Perceptron, 2018). MLPC also uses back-propagation, which means that the error of a prediction, which is calculated at the output layer, is progated backwards to the hidden layers. This way the the hidden layers can adjust themselves according to the feedback they get from the output layer. In our initial testing we tried multiple different combinations of hidden layers, but were unable to find a combination that would work better than logistic regression.\n",
    "\n",
    "After initial tests with all of our algorithms, we noticed that linear regression seems to yield best results with our training data. Thus, we decided to focus on optimising only that algorithm. Scikit-learn offers multiple different methods for optimising different classifiers. We decided to use GridSearchCv which performs an: \"Exhaustive search over specified parameter values for an estimator.\" We decided to iterate over the penalty function and the parameter C which is the inverse of the regularization strenght. The search iterates through all combinations of these parameters. In addition to these parameters the training set is split into three sets and the model is iterated through all of them to avoid overfitting by cross-validation.\n",
    "\n",
    "![title](img/picture.png)"
   ]
  },
  {
   "cell_type": "code",
   "execution_count": 27,
   "metadata": {},
   "outputs": [],
   "source": [
    "# Trials with ML algorithms\n",
    "\n",
    "def test_clf(clf, X, Y_true):\n",
    "    Y_pred = clf.predict(X)\n",
    "    score = clf.score(X, Y_true)\n",
    "    Y_pred_proba = clf.predict_proba(X)\n",
    "    loss = log_loss(Y_true, Y_pred_proba)\n",
    "    return (score, loss, Y_pred)\n",
    "    \n",
    "\n",
    "\n",
    "def train_log_reg(X, Y):\n",
    "    clf = LogisticRegression()\n",
    "    clf.fit(X, Y)\n",
    "    return clf\n",
    "\n",
    "\n",
    "def cross_cv_clf(clf, X, Y_true):\n",
    "    scores = cross_val_score(clf, X, Y_true, cv=5)\n",
    "    print(\"Accuracy: %0.2f (+/- %0.2f)\" % (scores.mean(), scores.std() * 2))\n",
    "\n",
    "    \n",
    "best_loss = 100\n",
    "best_score = 0\n",
    "best_score_val = 0\n",
    "best_loss_val = 0\n",
    "best_score_clf = None\n",
    "best_loss_clf = None\n",
    "\n",
    "mean = int(np.mean([train_set.shape[1], 10]))\n",
    "# TEST MLC\n",
    "datalen = 200\n",
    "data2 = np.random.randint(1, high=train_set.shape[1], size=datalen)\n",
    "hidden_layers = (mean, )\n",
    "\n"
   ]
  },
  {
   "cell_type": "code",
   "execution_count": 66,
   "metadata": {
    "scrolled": true
   },
   "outputs": [
    {
     "name": "stdout",
     "output_type": "stream",
     "text": [
      "{'C': array([1.00000000e+00, 2.78255940e+00, 7.74263683e+00, 2.15443469e+01,\n",
      "       5.99484250e+01, 1.66810054e+02, 4.64158883e+02, 1.29154967e+03,\n",
      "       3.59381366e+03, 1.00000000e+04]), 'penalty': ['l1', 'l2']}\n",
      "# Tuning hyper-parameters for Logistic Regression\n",
      "\n",
      "Fitting 3 folds for each of 20 candidates, totalling 60 fits\n",
      "[CV] C=1.0, penalty=l1 ...............................................\n",
      "[CV] C=1.0, penalty=l1 ...............................................\n",
      "[CV] C=1.0, penalty=l1 ...............................................\n",
      "[CV] C=1.0, penalty=l2 ...............................................\n",
      "[CV] C=1.0, penalty=l2 ...............................................\n",
      "[CV] C=1.0, penalty=l2 ...............................................\n",
      "[CV] C=2.7825594022071245, penalty=l1 ................................\n",
      "[CV] C=2.7825594022071245, penalty=l1 ................................\n",
      "[CV] C=2.7825594022071245, penalty=l1 ................................\n",
      "[CV] C=2.7825594022071245, penalty=l2 ................................\n",
      "[CV] C=2.7825594022071245, penalty=l2 ................................\n",
      "[CV] C=2.7825594022071245, penalty=l2 ................................\n",
      "[CV] ................................ C=1.0, penalty=l1, total=   9.4s\n",
      "[CV] C=7.742636826811269, penalty=l1 .................................\n",
      "[CV] ................................ C=1.0, penalty=l2, total=  11.4s\n",
      "[CV] C=7.742636826811269, penalty=l1 .................................\n",
      "[CV] ................................ C=1.0, penalty=l2, total=  11.4s\n",
      "[CV] C=7.742636826811269, penalty=l1 .................................\n",
      "[CV] ................................ C=1.0, penalty=l1, total=  11.7s\n",
      "[CV] C=7.742636826811269, penalty=l2 .................................\n",
      "[CV] ................................ C=1.0, penalty=l2, total=  11.9s\n",
      "[CV] C=7.742636826811269, penalty=l2 .................................\n",
      "[CV] ................................ C=1.0, penalty=l1, total=  14.5s\n",
      "[CV] C=7.742636826811269, penalty=l2 .................................\n",
      "[CV] ................. C=2.7825594022071245, penalty=l2, total=  16.1s\n",
      "[CV] C=21.544346900318832, penalty=l1 ................................\n",
      "[CV] ................. C=2.7825594022071245, penalty=l2, total=  16.8s\n",
      "[CV] C=21.544346900318832, penalty=l1 ................................\n",
      "[CV] ................. C=2.7825594022071245, penalty=l2, total=  17.8s\n",
      "[CV] C=21.544346900318832, penalty=l1 ................................\n",
      "[CV] .................. C=7.742636826811269, penalty=l2, total=  19.7s\n",
      "[CV] C=21.544346900318832, penalty=l2 ................................\n",
      "[CV] .................. C=7.742636826811269, penalty=l2, total=  20.6s\n",
      "[CV] C=21.544346900318832, penalty=l2 ................................\n",
      "[CV] .................. C=7.742636826811269, penalty=l2, total=  19.1s\n",
      "[CV] C=21.544346900318832, penalty=l2 ................................\n",
      "[CV] ................. C=2.7825594022071245, penalty=l1, total=  34.5s\n",
      "[CV] C=59.94842503189409, penalty=l1 .................................\n",
      "[CV] ................. C=2.7825594022071245, penalty=l1, total=  36.3s\n",
      "[CV] C=59.94842503189409, penalty=l1 .................................\n",
      "[CV] ................. C=2.7825594022071245, penalty=l1, total=  45.6s\n",
      "[CV] C=59.94842503189409, penalty=l1 .................................\n",
      "[CV] ................. C=21.544346900318832, penalty=l2, total=  22.4s\n",
      "[CV] C=59.94842503189409, penalty=l2 .................................\n",
      "[CV] ................. C=21.544346900318832, penalty=l2, total=  23.9s\n",
      "[CV] C=59.94842503189409, penalty=l2 .................................\n"
     ]
    },
    {
     "name": "stderr",
     "output_type": "stream",
     "text": [
      "[Parallel(n_jobs=-1)]: Done  17 tasks      | elapsed:   57.6s\n"
     ]
    },
    {
     "name": "stdout",
     "output_type": "stream",
     "text": [
      "[CV] ................. C=21.544346900318832, penalty=l2, total=  25.2s\n",
      "[CV] C=59.94842503189409, penalty=l2 .................................\n",
      "[CV] .................. C=59.94842503189409, penalty=l2, total=  23.2s\n",
      "[CV] C=166.81005372000593, penalty=l1 ................................\n",
      "[CV] .................. C=59.94842503189409, penalty=l2, total=  21.9s\n",
      "[CV] C=166.81005372000593, penalty=l1 ................................\n",
      "[CV] .................. C=59.94842503189409, penalty=l2, total=  24.4s\n",
      "[CV] C=166.81005372000593, penalty=l1 ................................\n",
      "[CV] .................. C=7.742636826811269, penalty=l1, total= 1.5min\n",
      "[CV] C=166.81005372000593, penalty=l2 ................................\n",
      "[CV] .................. C=7.742636826811269, penalty=l1, total= 1.6min\n",
      "[CV] C=166.81005372000593, penalty=l2 ................................\n",
      "[CV] .................. C=7.742636826811269, penalty=l1, total= 1.8min\n",
      "[CV] C=166.81005372000593, penalty=l2 ................................\n",
      "[CV] ................. C=166.81005372000593, penalty=l2, total=  26.5s\n",
      "[CV] C=464.15888336127773, penalty=l1 ................................\n",
      "[CV] ................. C=166.81005372000593, penalty=l2, total=  29.0s\n",
      "[CV] C=464.15888336127773, penalty=l1 ................................\n",
      "[CV] ................. C=166.81005372000593, penalty=l2, total=  23.2s\n",
      "[CV] C=464.15888336127773, penalty=l1 ................................\n",
      "[CV] ................. C=21.544346900318832, penalty=l1, total= 2.3min\n",
      "[CV] C=464.15888336127773, penalty=l2 ................................\n",
      "[CV] ................. C=21.544346900318832, penalty=l1, total= 2.7min\n",
      "[CV] C=464.15888336127773, penalty=l2 ................................\n",
      "[CV] ................. C=464.15888336127773, penalty=l2, total=  27.6s\n",
      "[CV] C=464.15888336127773, penalty=l2 ................................\n",
      "[CV] ................. C=21.544346900318832, penalty=l1, total= 2.8min\n",
      "[CV] C=1291.5496650148827, penalty=l1 ................................\n",
      "[CV] ................. C=464.15888336127773, penalty=l2, total=  24.6s\n",
      "[CV] C=1291.5496650148827, penalty=l1 ................................\n",
      "[CV] ................. C=464.15888336127773, penalty=l2, total=  28.8s\n",
      "[CV] C=1291.5496650148827, penalty=l1 ................................\n",
      "[CV] .................. C=59.94842503189409, penalty=l1, total= 2.9min\n",
      "[CV] C=1291.5496650148827, penalty=l2 ................................\n",
      "[CV] ................. C=1291.5496650148827, penalty=l2, total=  47.3s\n",
      "[CV] C=1291.5496650148827, penalty=l2 ................................\n",
      "[CV] .................. C=59.94842503189409, penalty=l1, total= 3.9min\n",
      "[CV] C=1291.5496650148827, penalty=l2 ................................\n",
      "[CV] .................. C=59.94842503189409, penalty=l1, total= 4.0min\n",
      "[CV] C=3593.813663804626, penalty=l1 .................................\n",
      "[CV] ................. C=166.81005372000593, penalty=l1, total= 3.8min\n",
      "[CV] C=3593.813663804626, penalty=l1 .................................\n",
      "[CV] ................. C=1291.5496650148827, penalty=l2, total=  32.4s\n",
      "[CV] C=3593.813663804626, penalty=l1 .................................\n",
      "[CV] ................. C=1291.5496650148827, penalty=l2, total=  38.0s\n",
      "[CV] C=3593.813663804626, penalty=l2 .................................\n",
      "[CV] ................. C=166.81005372000593, penalty=l1, total= 3.8min\n",
      "[CV] C=3593.813663804626, penalty=l2 .................................\n",
      "[CV] ................. C=464.15888336127773, penalty=l1, total= 3.0min\n",
      "[CV] C=3593.813663804626, penalty=l2 .................................\n",
      "[CV] ................. C=464.15888336127773, penalty=l1, total= 3.6min\n",
      "[CV] C=10000.0, penalty=l1 ...........................................\n",
      "[CV] .................. C=3593.813663804626, penalty=l2, total=  45.5s\n",
      "[CV] C=10000.0, penalty=l1 ...........................................\n",
      "[CV] .................. C=3593.813663804626, penalty=l2, total=  43.8s\n",
      "[CV] C=10000.0, penalty=l1 ...........................................\n",
      "[CV] .................. C=3593.813663804626, penalty=l2, total=  33.4s\n",
      "[CV] C=10000.0, penalty=l2 ...........................................\n",
      "[CV] ................. C=166.81005372000593, penalty=l1, total= 4.7min\n",
      "[CV] C=10000.0, penalty=l2 ...........................................\n",
      "[CV] ................. C=464.15888336127773, penalty=l1, total= 3.9min\n",
      "[CV] C=10000.0, penalty=l2 ...........................................\n",
      "[CV] ............................ C=10000.0, penalty=l2, total=  41.5s\n",
      "[CV] ............................ C=10000.0, penalty=l2, total=  37.7s\n",
      "[CV] ............................ C=10000.0, penalty=l2, total=  32.0s\n",
      "[CV] ................. C=1291.5496650148827, penalty=l1, total= 3.6min\n",
      "[CV] ................. C=1291.5496650148827, penalty=l1, total= 3.5min\n",
      "[CV] .................. C=3593.813663804626, penalty=l1, total= 2.8min\n",
      "[CV] .................. C=3593.813663804626, penalty=l1, total= 2.3min\n",
      "[CV] .................. C=3593.813663804626, penalty=l1, total= 2.5min\n",
      "[CV] ................. C=1291.5496650148827, penalty=l1, total= 4.1min\n",
      "[CV] ............................ C=10000.0, penalty=l1, total= 2.1min\n",
      "[CV] ............................ C=10000.0, penalty=l1, total= 2.1min\n",
      "[CV] ............................ C=10000.0, penalty=l1, total= 2.3min\n"
     ]
    },
    {
     "name": "stderr",
     "output_type": "stream",
     "text": [
      "[Parallel(n_jobs=-1)]: Done  60 out of  60 | elapsed:  8.1min finished\n"
     ]
    },
    {
     "name": "stdout",
     "output_type": "stream",
     "text": [
      "Best parameters set found on development set:\n",
      "\n",
      "{'C': 1.0, 'penalty': 'l1'}\n",
      "\n",
      "Grid scores on development set:\n",
      "\n",
      "0.635 (+/-0.016) for {'C': 1.0, 'penalty': 'l1'}\n",
      "0.624 (+/-0.021) for {'C': 1.0, 'penalty': 'l2'}\n",
      "0.609 (+/-0.007) for {'C': 2.7825594022071245, 'penalty': 'l1'}\n",
      "0.605 (+/-0.010) for {'C': 2.7825594022071245, 'penalty': 'l2'}\n",
      "0.565 (+/-0.006) for {'C': 7.742636826811269, 'penalty': 'l1'}\n",
      "0.580 (+/-0.007) for {'C': 7.742636826811269, 'penalty': 'l2'}\n",
      "0.544 (+/-0.027) for {'C': 21.544346900318832, 'penalty': 'l1'}\n",
      "0.561 (+/-0.004) for {'C': 21.544346900318832, 'penalty': 'l2'}\n",
      "0.537 (+/-0.017) for {'C': 59.94842503189409, 'penalty': 'l1'}\n",
      "0.546 (+/-0.015) for {'C': 59.94842503189409, 'penalty': 'l2'}\n",
      "0.526 (+/-0.016) for {'C': 166.81005372000593, 'penalty': 'l1'}\n",
      "0.531 (+/-0.022) for {'C': 166.81005372000593, 'penalty': 'l2'}\n",
      "0.515 (+/-0.006) for {'C': 464.15888336127773, 'penalty': 'l1'}\n",
      "0.523 (+/-0.030) for {'C': 464.15888336127773, 'penalty': 'l2'}\n",
      "0.514 (+/-0.012) for {'C': 1291.5496650148827, 'penalty': 'l1'}\n",
      "0.515 (+/-0.025) for {'C': 1291.5496650148827, 'penalty': 'l2'}\n",
      "0.511 (+/-0.011) for {'C': 3593.813663804626, 'penalty': 'l1'}\n",
      "0.511 (+/-0.026) for {'C': 3593.813663804626, 'penalty': 'l2'}\n",
      "0.504 (+/-0.001) for {'C': 10000.0, 'penalty': 'l1'}\n",
      "0.506 (+/-0.022) for {'C': 10000.0, 'penalty': 'l2'}\n",
      "             precision    recall  f1-score   support\n",
      "\n",
      "          1       0.70      0.86      0.77      1074\n",
      "          2       0.59      0.58      0.59       308\n",
      "          3       0.68      0.64      0.66       176\n",
      "          4       0.57      0.43      0.49       126\n",
      "          5       0.36      0.26      0.30       109\n",
      "          6       0.38      0.24      0.29       138\n",
      "          7       0.15      0.05      0.07        66\n",
      "          8       0.45      0.26      0.33       105\n",
      "          9       0.30      0.25      0.27        44\n",
      "         10       0.09      0.06      0.07        36\n",
      "\n",
      "avg / total       0.59      0.63      0.60      2182\n",
      "\n",
      "\n"
     ]
    }
   ],
   "source": [
    "# Logistic Regression\n",
    "penalty = ['l1', 'l2']\n",
    "C = np.logspace(0, 4, 10)\n",
    "tuned_parameters = dict(C=C, penalty=penalty)\n",
    "print(tuned_parameters)\n",
    "print(\"# Tuning hyper-parameters for Logistic Regression\")\n",
    "print()\n",
    "# Optimizing Logistic Regressionwith corss validation\n",
    "clf = GridSearchCV(LogisticRegression(), tuned_parameters, cv=3, n_jobs=-1, verbose=2)\n",
    "clf.fit(train_set, train_set_labels)\n",
    "print(\"Best parameters set found on development set:\")\n",
    "print()\n",
    "print(clf.best_params_)\n",
    "print()\n",
    "print(\"Grid scores on development set:\")\n",
    "print()\n",
    "means = clf.cv_results_['mean_test_score']\n",
    "stds = clf.cv_results_['std_test_score']\n",
    "for mean, std, params in zip(means, stds, clf.cv_results_['params']):\n",
    "    print(\"%0.3f (+/-%0.03f) for %r\" % (mean, std * 2, params))\n",
    "\n",
    "y_true, y_pred = confirm_set_labels, clf.predict(confirm_set)\n",
    "print(classification_report(y_true, y_pred))\n",
    "print()"
   ]
  },
  {
   "cell_type": "code",
   "execution_count": null,
   "metadata": {},
   "outputs": [],
   "source": [
    "# MLPC\n",
    "# CLF.fit Takes to parameters data X shape(n_samples, n_features) and labels Y shape(n_samples\n",
    "def train_mlpc_with_params(solver, alpha, hidden_layer_sizes, random_state, X, Y):\n",
    "    clf = MLPClassifier(solver=solver, alpha=alpha, hidden_layer_sizes=hidden_layer_sizes, random_state=random_state, shuffle=True)\n",
    "    clf.fit(X, Y)\n",
    "    return clf"
   ]
  },
  {
   "cell_type": "code",
   "execution_count": null,
   "metadata": {},
   "outputs": [],
   "source": [
    "# Linear SVC\n",
    "def train_one_vs_rest(X,y):\n",
    "    svm = LinearSVC()\n",
    "    clf = CalibratedClassifierCV(svm) \n",
    "    clf.fit(X, y)\n",
    "    return clf"
   ]
  },
  {
   "cell_type": "markdown",
   "metadata": {},
   "source": [
    "## 4. Results"
   ]
  },
  {
   "cell_type": "markdown",
   "metadata": {},
   "source": [
    "After optimization we got our algorithm to work with quite good performance. When the classifier is applied to the classifier, we get accuracy of 0.629 and logloss of 1.33. The accuracy value is ok, but the log-loss seems a bit high even though it is in line with the accuracy score. When comparing our results with the results our classifier gets from Kaggle, we can see that the accuracy score is 0.61 and logloss is 0.19. Accuracy score is almost in the error margin reported by the GridSearch. There is a huge difference in the measured logloss and Kaggle's logloss, but it is explained by the use of different base-number for the logarithms. The chosen algorithm seems to perform on a nearly equal level with the full dataset as it does with the training dataset. We can see from the output of scikit learn's classification report and from the confusion matrix (below) that our algorithm is good at predicting if songs genre is Pop/Rock or bad when genre is blues. We can interpret from the confusion matrix that the Pop/Rock genre seems to attract also a lot of false positives and that the algorithm is keen on labeling all music as Pop/Rock."
   ]
  },
  {
   "cell_type": "code",
   "execution_count": 68,
   "metadata": {},
   "outputs": [
    {
     "name": "stdout",
     "output_type": "stream",
     "text": [
      "Normalized confusion matrix\n",
      "[[0.86126629 0.06424581 0.01303538 0.00837989 0.01024209 0.01582868\n",
      "  0.00372439 0.01489758 0.0027933  0.00558659]\n",
      " [0.2987013  0.58116883 0.03246753 0.01623377 0.01298701 0.02922078\n",
      "  0.00324675 0.00649351 0.00974026 0.00974026]\n",
      " [0.15340909 0.05113636 0.63636364 0.01136364 0.03409091 0.02840909\n",
      "  0.00568182 0.         0.0625     0.01704545]\n",
      " [0.32539683 0.0952381  0.02380952 0.42857143 0.03968254 0.04761905\n",
      "  0.00793651 0.         0.02380952 0.00793651]\n",
      " [0.42201835 0.05504587 0.02752294 0.06422018 0.25688073 0.04587156\n",
      "  0.05504587 0.04587156 0.01834862 0.00917431]\n",
      " [0.38405797 0.0942029  0.10869565 0.06521739 0.05072464 0.23913043\n",
      "  0.01449275 0.02173913 0.01449275 0.00724638]\n",
      " [0.45454545 0.13636364 0.04545455 0.03030303 0.09090909 0.06060606\n",
      "  0.04545455 0.09090909 0.03030303 0.01515152]\n",
      " [0.60952381 0.02857143 0.         0.01904762 0.02857143 0.01904762\n",
      "  0.00952381 0.25714286 0.         0.02857143]\n",
      " [0.27272727 0.04545455 0.09090909 0.06818182 0.11363636 0.11363636\n",
      "  0.02272727 0.         0.25       0.02272727]\n",
      " [0.66666667 0.02777778 0.02777778 0.05555556 0.08333333 0.05555556\n",
      "  0.         0.02777778 0.         0.05555556]]\n"
     ]
    },
    {
     "data": {
      "image/png": "[encoded data removed]",
      "text/plain": [
       "<Figure size 576x576 with 2 Axes>"
      ]
     },
     "metadata": {
      "needs_background": "light"
     },
     "output_type": "display_data"
    },
    {
     "name": "stdout",
     "output_type": "stream",
     "text": [
      "LOG LOSS\n",
      "1.338522763558865\n",
      "SCORE\n",
      "0.6296975252062328\n"
     ]
    }
   ],
   "source": [
    "#Confusion matrix ...\n",
    "# code for visualisation from http://scikit-learn.org/stable/auto_examples/model_selection/plot_confusion_matrix.html\n",
    "def plot_confusion_matrix(cm, classes,\n",
    "                          normalize=False,\n",
    "                          title='Confusion matrix',\n",
    "                          cmap=plt.cm.Blues):\n",
    "    \"\"\"\n",
    "    This function prints and plots the confusion matrix.\n",
    "    Normalization can be applied by setting `normalize=True`.\n",
    "    \"\"\"\n",
    "    if normalize:\n",
    "        cm = cm.astype('float') / cm.sum(axis=1)[:, np.newaxis]\n",
    "        print(\"Normalized confusion matrix\")\n",
    "    else:\n",
    "        print('Confusion matrix, without normalization')\n",
    "\n",
    "    print(cm)\n",
    "\n",
    "    plt.imshow(cm, interpolation='nearest', cmap=cmap)\n",
    "    plt.title(title)\n",
    "    plt.colorbar()\n",
    "    tick_marks = np.arange(len(classes))\n",
    "    plt.xticks(tick_marks, classes, rotation=45)\n",
    "    plt.yticks(tick_marks, classes)\n",
    "\n",
    "    fmt = '.2f' if normalize else 'd'\n",
    "    thresh = cm.max() / 2.\n",
    "    for i, j in itertools.product(range(cm.shape[0]), range(cm.shape[1])):\n",
    "        plt.text(j, i, format(cm[i, j], fmt),\n",
    "                 horizontalalignment=\"center\",\n",
    "                 color=\"white\" if cm[i, j] > thresh else \"black\")\n",
    "\n",
    "    plt.ylabel('True label')\n",
    "    plt.xlabel('Predicted label')\n",
    "    plt.tight_layout()\n",
    "\n",
    "    \n",
    "cnf_matrix = confusion_matrix(np.ravel(y_true), y_pred)\n",
    "plt.figure(figsize=(8, 8))\n",
    "plot_confusion_matrix(cnf_matrix, classes=classes, normalize=True, title='Confusion matrix')\n",
    "\n",
    "plt.show()\n",
    "\n",
    "log_loss_headers = [\n",
    "    \"Class_1\",\n",
    "    \"Class_2\",\n",
    "    \"Class_3\",\n",
    "    \"Class_4\",\n",
    "    \"Class_5\",\n",
    "    \"Class_6\",\n",
    "    \"Class_7\",\n",
    "    \"Class_8\",\n",
    "    \"Class_9\",\n",
    "    \"Class_10\",\n",
    "]\n",
    "log_loss_predictions = clf.predict_proba(test_data)\n",
    "score_predictions = clf.predict(test_data)\n",
    "\n",
    "print(\"LOG LOSS\")\n",
    "pred_conf = clf.predict_proba(confirm_set)\n",
    "print(log_loss(np.ravel(confirm_set_labels), pred_conf))\n",
    "print(\"SCORE\")\n",
    "print(clf.score(confirm_set, np.ravel(confirm_set_labels)))\n",
    "\n",
    "log_loss_predictions = pd.DataFrame(log_loss_predictions)\n",
    "score_predictions = pd.DataFrame(score_predictions)\n",
    "score_predictions.index = range(1,len(score_predictions)+1)\n",
    "log_loss_predictions.index = range(1,len(log_loss_predictions)+1)\n",
    "score_predictions.to_csv(\"./score_results.csv\", index_label=\"Sample_id\", header=[\"Sample_label\"])\n",
    "log_loss_predictions.to_csv(\"./log_loss_results.csv\", index_label=\"Sample_id\", header=log_loss_headers)"
   ]
  },
  {
   "cell_type": "markdown",
   "metadata": {},
   "source": [
    "## 5. Discussion/Conclusions"
   ]
  },
  {
   "cell_type": "markdown",
   "metadata": {},
   "source": [
    "The results we have achieved show that our algorithm is clearly biased towards classifying songs as Pop/Rock. It is a consequence of most songs in the training data belonging in that category. If we were to purely look at accuracy acquired from the test data, we could say that our algorithm is good at classifying music. In reality the logloss is a much better measure of a multiclass classifier, because it penalises from false predictions. The confusion matrix shows us that our Logistic regression algorithm classifies more songs as pop/rock than their true genre. This applies for all classes except Electronic, Rap and Pop/Rock. The matrix also shows  \n",
    "\n",
    "We also tested to reduce the amount of Pop/Rock samples in the training data by dropping 1000 first samples. We anticipated that this would probably reduce the amount of songs falsely classified as pop/rock. Our hypothesis proved to be correct, but the overall scores attained by the classifier trained with smaller dataset were significantly lower than ones attained with the full dataset. \n",
    "\n",
    "*- Discuss the relevance of the performance measures (accuracy and LogLoss) for\n",
    "imbalanced multiclass datasets. *\n",
    "\n",
    "*- How the results relate to the literature. *\n",
    "\n",
    "*- Suggestions for future research/improvement. *\n",
    "\n",
    "*- Did the study answer your questions? *\n",
    "\n"
   ]
  },
  {
   "cell_type": "markdown",
   "metadata": {},
   "source": [
    "## 6. References"
   ]
  },
  {
   "cell_type": "markdown",
   "metadata": {},
   "source": [
    "http://scikit-learn.org/stable/\n",
    "\n",
    "Jung, A. (2018). *Machine Learning: Basic Principles*\n",
    "\n",
    "Multilayer Perceptron http://deeplearning.net/tutorial/mlp.html"
   ]
  }
 ],
 "metadata": {
  "kernelspec": {
   "display_name": "Python 3",
   "language": "python",
   "name": "python3"
  },
  "language_info": {
   "codemirror_mode": {
    "name": "ipython",
    "version": 3
   },
   "file_extension": ".py",
   "mimetype": "text/x-python",
   "name": "python",
   "nbconvert_exporter": "python",
   "pygments_lexer": "ipython3",
   "version": "3.7.0"
  }
 },
 "nbformat": 4,
 "nbformat_minor": 2
}
