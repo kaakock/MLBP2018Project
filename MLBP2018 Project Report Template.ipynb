{
 "cells": [
  {
   "cell_type": "markdown",
   "metadata": {},
   "source": [
    "**Machine Learning Basic Principles 2018 - Data Analysis Project Report**"
   ]
  },
  {
   "cell_type": "markdown",
   "metadata": {},
   "source": [
    "*All the text in italics is instructions for filling the template - remove when writing the project report!*"
   ]
  },
  {
   "cell_type": "markdown",
   "metadata": {},
   "source": [
    "# *Title* "
   ]
  },
  {
   "cell_type": "markdown",
   "metadata": {},
   "source": [
    "*Title should be concise and informative, describes the approach to solve the problem. Some good titles from previous years:*\n",
    "\n",
    "*- Comparing extreme learning machines and naive bayes’ classifier in spam detection*\n",
    "\n",
    "*- Using linear discriminant analysis in spam detection*\n",
    "\n",
    "*Some not-so-good titles:*\n",
    "\n",
    "*- Bayesian spam filtering with extras*\n",
    "\n",
    "*- Two-component classifier for spam detection*\n",
    "\n",
    "*- CS-E3210 Term Project, final report*\n",
    "\n",
    "\n"
   ]
  },
  {
   "cell_type": "markdown",
   "metadata": {},
   "source": [
    "## Abstract"
   ]
  },
  {
   "cell_type": "markdown",
   "metadata": {},
   "source": [
    "*Precise summary of the whole report, previews the contents and results. Must be a single paragraph between 100 and 200 words.*\n",
    "\n"
   ]
  },
  {
   "cell_type": "markdown",
   "metadata": {},
   "source": [
    "## 1. Introduction"
   ]
  },
  {
   "cell_type": "markdown",
   "metadata": {},
   "source": [
    "*Background, problem statement, motivation, many references, description of\n",
    "contents. Introduces the reader to the topic and the broad context within which your\n",
    "research/project fits*\n",
    "\n",
    "*- What do you hope to learn from the project?*\n",
    "*- What question is being addressed?*\n",
    "*- Why is this task important? (motivation)*\n",
    "\n",
    "*Keep it short (half to 1 page).*\n",
    "\n"
   ]
  },
  {
   "cell_type": "markdown",
   "metadata": {},
   "source": [
    "## 2. Data analysis"
   ]
  },
  {
   "cell_type": "markdown",
   "metadata": {},
   "source": [
    "*Briefly describe data (class distribution, dimensionality) and how will it affect\n",
    "classification. Visualize the data. Don’t focus too much on the meaning of the features,\n",
    "unless you want to.*\n",
    "\n",
    "*- Include histograms showing class distribution.*\n",
    "\n"
   ]
  },
  {
   "cell_type": "code",
   "execution_count": 206,
   "metadata": {
    "scrolled": false
   },
   "outputs": [
    {
     "name": "stdout",
     "output_type": "stream",
     "text": [
      "(2181, 264)\n"
     ]
    },
    {
     "data": {
      "image/png": "[encoded data removed]",
      "text/plain": [
       "<Figure size 864x432 with 1 Axes>"
      ]
     },
     "metadata": {
      "needs_background": "light"
     },
     "output_type": "display_data"
    }
   ],
   "source": [
    "# Import libraries\n",
    "import pandas as pd\n",
    "import numpy as np\n",
    "import matplotlib.pyplot as plt\n",
    "from sklearn.neural_network import MLPClassifier\n",
    "from sklearn.metrics import confusion_matrix, log_loss\n",
    "from sklearn.preprocessing import StandardScaler\n",
    "scaler = StandardScaler()\n",
    "\n",
    "test_data = pd.read_csv(\"./test_data.csv\").values\n",
    "train_data = pd.read_csv(\"./train_data.csv\").values\n",
    "train_labels = pd.read_csv(\"./train_labels.csv\").values\n",
    "\n",
    "# Use every second item of train_data as confirmation data set and every second as training set\n",
    "scaler.fit(train_data[::2])\n",
    "confirm_set = scaler.transform(train_data[::2])\n",
    "confirm_labels = np.ravel(train_labels[::2])\n",
    "train_set = scaler.transform(train_data[1::2])\n",
    "train_labels = np.ravel(train_labels[1::2])\n",
    "\n",
    "\n",
    "classes = [\n",
    "    \"Pop_Rock\",\n",
    "    \"Electronic\",\n",
    "    \"Rap\",\n",
    "    \"Jazz\",\n",
    "    \"Latin\",\n",
    "    \"RnB\",\n",
    "    \"International\",\n",
    "    \"Country\",\n",
    "    \"Reggae\",\n",
    "    \"Blues\"\n",
    "]\n",
    "unique, counts = np.unique(train_labels, return_counts=True)\n",
    "print(train_set.shape)\n",
    "fig, ax = plt.subplots(1, 1, figsize=(12, 6))\n",
    "hist = ax.bar(classes, counts)\n",
    "ax.set_xlabel(\"Class\")\n",
    "ax.set_ylabel(\"n of samples\")\n",
    "plt.show()"
   ]
  },
  {
   "cell_type": "code",
   "execution_count": 236,
   "metadata": {},
   "outputs": [],
   "source": [
    "# Load the data and cleanup\n",
    "\n",
    "# CLF.fit Takes to parameters data X shape(n_samples, n_features) and labels Y shape(n_samples\n",
    "def train_clf_with_params(alpha, hidden_layer_sizes, random_state, X, Y):\n",
    "    clf = MLPClassifier(solver='lbfgs', alpha=alpha, hidden_layer_sizes=hidden_layer_sizes, random_state=random_state, shuffle=True)\n",
    "    clf.fit(X, Y)\n",
    "    return clf\n",
    "\n",
    "def test_clf(clf, X, Y_true):\n",
    "    Y_pred = clf.predict(X)\n",
    "    score = clf.score(X, Y_true)\n",
    "    Y_pred_proba = clf.predict_proba(X)\n",
    "    print(\"Score: \" + str(score))\n",
    "    loss = log_loss(Y_true, Y_pred_proba)\n",
    "    print(\"Log Loss: \" + str(loss))\n",
    "    return (score, loss)\n",
    "    \n",
    "    \n",
    "    "
   ]
  },
  {
   "cell_type": "code",
   "execution_count": 240,
   "metadata": {},
   "outputs": [
    {
     "name": "stdout",
     "output_type": "stream",
     "text": [
      "Score: 0.579092159559835\n",
      "Log Loss: 7.19328097769484\n",
      "Score: 0.5933058230169647\n",
      "Log Loss: 7.263376395274322\n",
      "Score: 0.5818431911966988\n",
      "Log Loss: 7.519201554388124\n",
      "Score: 0.5653370013755158\n",
      "Log Loss: 9.424112636867326\n",
      "Score: 0.5653370013755158\n",
      "Log Loss: 8.091296125826172\n",
      "Score: 0.5887207702888583\n",
      "Log Loss: 7.098345106874916\n",
      "Score: 0.5795506648326456\n",
      "Log Loss: 7.450960074094607\n",
      "Score: 0.5873452544704264\n",
      "Log Loss: 7.089922211681097\n",
      "Score: 0.5332416322787712\n",
      "Log Loss: 11.846310177108904\n",
      "Score: 0.584135717560752\n",
      "Log Loss: 7.824602175887885\n",
      "Score: 0.5813846859238881\n",
      "Log Loss: 7.4409634275293035\n",
      "Score: 0.5708390646492435\n",
      "Log Loss: 7.462631380013403\n",
      "Score: 0.584135717560752\n",
      "Log Loss: 7.271207791951658\n",
      "Score: 0.5781751490142136\n",
      "Log Loss: 7.688341615248855\n",
      "Score: 0.5855112333791839\n",
      "Log Loss: 7.315099885269148\n",
      "Score: 0.5795506648326456\n",
      "Log Loss: 7.6298425292833\n",
      "Score: 0.5891792755616689\n",
      "Log Loss: 6.08436713155127\n",
      "Score: 0.5919303071985328\n",
      "Log Loss: 7.33643379919162\n",
      "Score: 0.5868867491976157\n",
      "Log Loss: 7.6020623674540815\n",
      "Score: 0.5873452544704264\n",
      "Log Loss: 6.471161647853768\n",
      "Score: 0.5813846859238881\n",
      "Log Loss: 6.945774865927389\n",
      "Score: 0.5717560751948647\n",
      "Log Loss: 8.189782075376675\n",
      "Score: 0.5300320953690968\n",
      "Log Loss: 4.804973774247122\n",
      "Score: 0.5786336542870243\n",
      "Log Loss: 6.644016751315024\n",
      "Score: 0.5914718019257221\n",
      "Log Loss: 6.702806930871229\n",
      "Score: 0.5589179275561669\n",
      "Log Loss: 10.085135039146767\n",
      "Score: 0.5772581384685924\n",
      "Log Loss: 8.145719439970433\n",
      "Score: 0.6070609812012838\n",
      "Log Loss: 6.37356425305794\n",
      "Score: 0.5749656121045392\n",
      "Log Loss: 9.261673958387428\n",
      "Score: 0.5483723062815222\n",
      "Log Loss: 12.322192712208231\n",
      "Score: 0.5786336542870243\n",
      "Log Loss: 6.644016751315024\n",
      "Score: 0.5749656121045392\n",
      "Log Loss: 7.618686277847016\n",
      "Score: 0.5153599266391563\n",
      "Log Loss: 7.053917095524399\n",
      "Score: 0.5749656121045392\n",
      "Log Loss: 7.383989425953883\n",
      "Score: 0.5254470426409904\n",
      "Log Loss: 5.530201261436458\n",
      "Score: 0.5859697386519945\n",
      "Log Loss: 6.894898960960218\n",
      "Score: 0.584135717560752\n",
      "Log Loss: 7.824602175887885\n",
      "Score: 0.569005043558001\n",
      "Log Loss: 8.789553577179081\n",
      "Score: 0.5809261806510775\n",
      "Log Loss: 6.960894116881079\n",
      "Score: 0.5635029802842733\n",
      "Log Loss: 10.497512792402302\n",
      "Score: 0.5882622650160477\n",
      "Log Loss: 6.390575811026361\n",
      "Score: 0.5758826226501604\n",
      "Log Loss: 8.19337346000522\n",
      "Score: 0.5859697386519945\n",
      "Log Loss: 8.12238038723485\n",
      "Score: 0.5905547913801009\n",
      "Log Loss: 6.165049540035453\n",
      "Score: 0.5823016964695094\n",
      "Log Loss: 8.16384010816293\n",
      "Score: 0.5772581384685924\n",
      "Log Loss: 7.222370496676718\n",
      "Score: 0.5955983493810179\n",
      "Log Loss: 6.970619881308975\n",
      "Score: 0.5749656121045392\n",
      "Log Loss: 7.900953884576712\n",
      "Score: 0.5878037597432371\n",
      "Log Loss: 6.896124882530354\n",
      "Score: 0.535992663915635\n",
      "Log Loss: 14.343982550167455\n",
      "Score: 0.5809261806510775\n",
      "Log Loss: 7.238338517190384\n",
      "Score: 0.5635029802842733\n",
      "Log Loss: 10.497512792402302\n",
      "Score: 0.5818431911966988\n",
      "Log Loss: 6.815558184836457\n",
      "Score: 0.5923888124713435\n",
      "Log Loss: 8.233745996440817\n",
      "Score: 0.546079779917469\n",
      "Log Loss: 1.5067524283208238\n",
      "Score: 0.5800091701054562\n",
      "Log Loss: 7.140514544785308\n",
      "Score: 0.5465382851902797\n",
      "Log Loss: 12.267626497172824\n",
      "Score: 0.5887207702888583\n",
      "Log Loss: 8.004305678444334\n",
      "Score: 0.5896377808344796\n",
      "Log Loss: 7.094598217921879\n",
      "Score: 0.5836772122879413\n",
      "Log Loss: 6.347708179008241\n",
      "Score: 0.5749656121045392\n",
      "Log Loss: 7.900953884576712\n",
      "Score: 0.5873452544704264\n",
      "Log Loss: 6.471161647853768\n",
      "Score: 0.5717560751948647\n",
      "Log Loss: 7.414472754824259\n",
      "Score: 0.5910132966529115\n",
      "Log Loss: 6.294758509924242\n",
      "Score: 0.5859697386519945\n",
      "Log Loss: 6.894898960960218\n",
      "Score: 0.5758826226501604\n",
      "Log Loss: 7.568011017414358\n",
      "Score: 0.5868867491976157\n",
      "Log Loss: 7.095855940171286\n",
      "Score: 0.5905547913801009\n",
      "Log Loss: 6.165049540035453\n",
      "Score: 0.5919303071985328\n",
      "Log Loss: 6.919059710620669\n",
      "Score: 0.5492893168271435\n",
      "Log Loss: 10.525060918925504\n",
      "Score: 0.5612104539202201\n",
      "Log Loss: 9.277259931090134\n",
      "Score: 0.5905547913801009\n",
      "Log Loss: 8.176333169806915\n",
      "Score: 0.5974323704722604\n",
      "Log Loss: 6.697293608737011\n",
      "Score: 0.5896377808344796\n",
      "Log Loss: 6.325441245553385\n",
      "Score: 0.5722145804676754\n",
      "Log Loss: 8.069985691510723\n",
      "Score: 0.5896377808344796\n",
      "Log Loss: 6.477410478528527\n",
      "Score: 0.5772581384685924\n",
      "Log Loss: 7.849813971429678\n",
      "Score: 0.5547913801008711\n",
      "Log Loss: 10.221080450729094\n",
      "Score: 0.5483723062815222\n",
      "Log Loss: 12.322192712208231\n",
      "Score: 0.5488308115543329\n",
      "Log Loss: 10.984892269534734\n",
      "Score: 0.5882622650160477\n",
      "Log Loss: 6.390575811026361\n",
      "Score: 0.584135717560752\n",
      "Log Loss: 7.824602175887885\n",
      "Score: 0.569005043558001\n",
      "Log Loss: 2.4479772437979013\n",
      "Score: 0.594222833562586\n",
      "Log Loss: 6.768072809052289\n",
      "Score: 0.5855112333791839\n",
      "Log Loss: 6.894305688192325\n",
      "Score: 0.5832187070151307\n",
      "Log Loss: 7.881151601805604\n",
      "Score: 0.5928473177441541\n",
      "Log Loss: 6.799607455928016\n",
      "Score: 0.6070609812012838\n",
      "Log Loss: 6.37356425305794\n",
      "Score: 0.546079779917469\n",
      "Log Loss: 1.5067524283208238\n",
      "Score: 0.5772581384685924\n",
      "Log Loss: 7.2728415348332165\n",
      "Score: 0.5735900962861072\n",
      "Log Loss: 7.517964743218168\n",
      "Score: 0.5891792755616689\n",
      "Log Loss: 7.7091133147553235\n",
      "Score: 0.5694635488308115\n",
      "Log Loss: 7.408096973621965\n",
      "Score: 0.5859697386519945\n",
      "Log Loss: 6.894898960960218\n",
      "Score: 0.5809261806510775\n",
      "Log Loss: 6.97455817237769\n",
      "Score: 0.5855112333791839\n",
      "Log Loss: 7.315099885269148\n",
      "Score: 0.5749656121045392\n",
      "Log Loss: 7.618686277847016\n",
      "Score: 0.5878037597432371\n",
      "Log Loss: 6.896124882530354\n",
      "Score: 0.594222833562586\n",
      "Log Loss: 5.998628089205933\n",
      "Score: 0.5382851902796882\n",
      "Log Loss: 13.460490644721867\n",
      "Score: 0.5859697386519945\n",
      "Log Loss: 7.740109199496314\n",
      "LOSS 4.804973774247122\n",
      "SCORE 0.5300320953690968\n",
      "VALUE (6,)\n"
     ]
    }
   ],
   "source": [
    "#Analysis of the input data\n",
    "# ...\n",
    "\n",
    "mean = int(np.mean([train_set.shape[1], 10]))\n",
    "# TEST MLC\n",
    "data = np.random.randint(train_set.shape[1], size=100)\n",
    "data = np.hstack([data, mean])\n",
    "best_loss = 100\n",
    "best_score = 100\n",
    "best_val = 0\n",
    "for i in data:\n",
    "    tup = (i, )\n",
    "    clf = train_clf_with_params(1e-5, tup, 1, train_set, train_labels)\n",
    "    score, loss = test_clf(clf, confirm_set, confirm_labels)\n",
    "    if ((score < best_score) & (best_loss > loss)):\n",
    "        best_loss = loss\n",
    "        best_score = score\n",
    "        best_val = tup\n",
    "print(\"LOSS \" + str(best_loss))\n",
    "print(\"SCORE \" + str(best_score))\n",
    "print(\"VALUE \" + str(best_val))"
   ]
  },
  {
   "cell_type": "markdown",
   "metadata": {},
   "source": [
    "## 3. Methods and experiments"
   ]
  },
  {
   "cell_type": "markdown",
   "metadata": {},
   "source": [
    "*- Explain your whole approach (you can include a block diagram showing the steps in your process).* \n",
    "\n",
    "*- What methods/algorithms, why were the methods chosen. *\n",
    "\n",
    "*- What evaluation methodology (cross CV, etc.).*\n",
    "\n"
   ]
  },
  {
   "cell_type": "code",
   "execution_count": 4,
   "metadata": {
    "collapsed": true
   },
   "outputs": [],
   "source": [
    "# Trials with ML algorithms"
   ]
  },
  {
   "cell_type": "markdown",
   "metadata": {},
   "source": [
    "## 4. Results"
   ]
  },
  {
   "cell_type": "markdown",
   "metadata": {},
   "source": [
    "*Summarize the results of the experiments without discussing their implications.*\n",
    "\n",
    "*- Include both performance measures (accuracy and LogLoss).*\n",
    "\n",
    "*- How does it perform on kaggle compared to the train data.*\n",
    "\n",
    "*- Include a confusion matrix.*\n",
    "\n"
   ]
  },
  {
   "cell_type": "code",
   "execution_count": 5,
   "metadata": {
    "collapsed": true
   },
   "outputs": [],
   "source": [
    "#Confusion matrix ..."
   ]
  },
  {
   "cell_type": "markdown",
   "metadata": {},
   "source": [
    "## 5. Discussion/Conclusions"
   ]
  },
  {
   "cell_type": "markdown",
   "metadata": {},
   "source": [
    "*Interpret and explain your results *\n",
    "\n",
    "*- Discuss the relevance of the performance measures (accuracy and LogLoss) for\n",
    "imbalanced multiclass datasets. *\n",
    "\n",
    "*- How the results relate to the literature. *\n",
    "\n",
    "*- Suggestions for future research/improvement. *\n",
    "\n",
    "*- Did the study answer your questions? *\n",
    "\n"
   ]
  },
  {
   "cell_type": "markdown",
   "metadata": {},
   "source": [
    "## 6. References"
   ]
  },
  {
   "cell_type": "markdown",
   "metadata": {},
   "source": [
    "*List of all the references cited in the document*"
   ]
  },
  {
   "cell_type": "markdown",
   "metadata": {},
   "source": [
    "## Appendix\n",
    "*Any additional material needed to complete the report can be included here. For example, if you want to keep  additional source code, additional images or plots, mathematical derivations, etc. The content should be relevant to the report and should help explain or visualize something mentioned earlier. **You can remove the whole Appendix section if there is no need for it.** *"
   ]
  },
  {
   "cell_type": "code",
   "execution_count": null,
   "metadata": {
    "collapsed": true
   },
   "outputs": [],
   "source": []
  }
 ],
 "metadata": {
  "kernelspec": {
   "display_name": "Python 3",
   "language": "python",
   "name": "python3"
  },
  "language_info": {
   "codemirror_mode": {
    "name": "ipython",
    "version": 3
   },
   "file_extension": ".py",
   "mimetype": "text/x-python",
   "name": "python",
   "nbconvert_exporter": "python",
   "pygments_lexer": "ipython3",
   "version": "3.7.0"
  }
 },
 "nbformat": 4,
 "nbformat_minor": 2
}
