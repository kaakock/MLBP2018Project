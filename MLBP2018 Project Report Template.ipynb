{
 "cells": [
  {
   "cell_type": "markdown",
   "metadata": {},
   "source": [
    "**Machine Learning Basic Principles 2018 - Data Analysis Project Report**"
   ]
  },
  {
   "cell_type": "markdown",
   "metadata": {},
   "source": [
    "*All the text in italics is instructions for filling the template - remove when writing the project report!*"
   ]
  },
  {
   "cell_type": "markdown",
   "metadata": {},
   "source": [
    "# *Title* "
   ]
  },
  {
   "cell_type": "markdown",
   "metadata": {},
   "source": [
    "*Title should be concise and informative, describes the approach to solve the problem. Some good titles from previous years:*\n",
    "\n",
    "*- Comparing extreme learning machines and naive bayes’ classifier in spam detection*\n",
    "\n",
    "*- Using linear discriminant analysis in spam detection*\n",
    "\n",
    "*Some not-so-good titles:*\n",
    "\n",
    "*- Bayesian spam filtering with extras*\n",
    "\n",
    "*- Two-component classifier for spam detection*\n",
    "\n",
    "*- CS-E3210 Term Project, final report*\n",
    "\n",
    "\n"
   ]
  },
  {
   "cell_type": "markdown",
   "metadata": {},
   "source": [
    "## Abstract"
   ]
  },
  {
   "cell_type": "markdown",
   "metadata": {},
   "source": [
    "*Precise summary of the whole report, previews the contents and results. Must be a single paragraph between 100 and 200 words.*\n",
    "\n"
   ]
  },
  {
   "cell_type": "markdown",
   "metadata": {},
   "source": [
    "## 1. Introduction"
   ]
  },
  {
   "cell_type": "markdown",
   "metadata": {},
   "source": [
    "*Background, problem statement, motivation, many references, description of\n",
    "contents. Introduces the reader to the topic and the broad context within which your\n",
    "research/project fits*\n",
    "\n",
    "*- What do you hope to learn from the project?*\n",
    "*- What question is being addressed?*\n",
    "*- Why is this task important? (motivation)*\n",
    "\n",
    "*Keep it short (half to 1 page).*\n",
    "\n"
   ]
  },
  {
   "cell_type": "markdown",
   "metadata": {},
   "source": [
    "## 2. Data analysis"
   ]
  },
  {
   "cell_type": "markdown",
   "metadata": {},
   "source": [
    "*Briefly describe data (class distribution, dimensionality) and how will it affect\n",
    "classification. Visualize the data. Don’t focus too much on the meaning of the features,\n",
    "unless you want to.*\n",
    "\n",
    "*- Include histograms showing class distribution.*\n",
    "\n"
   ]
  },
  {
   "cell_type": "code",
   "execution_count": 3,
   "metadata": {
    "scrolled": true
   },
   "outputs": [
    {
     "name": "stdout",
     "output_type": "stream",
     "text": [
      "(2181, 264)\n"
     ]
    },
    {
     "data": {
      "text/plain": [
       "<Figure size 1200x600 with 1 Axes>"
      ]
     },
     "metadata": {},
     "output_type": "display_data"
    }
   ],
   "source": [
    "# Import libraries\n",
    "import pandas as pd\n",
    "import numpy as np\n",
    "import matplotlib.pyplot as plt\n",
    "from sklearn.neural_network import MLPClassifier\n",
    "from sklearn.metrics import confusion_matrix, log_loss\n",
    "from sklearn.preprocessing import StandardScaler\n",
    "scaler = StandardScaler()\n",
    "\n",
    "test_data = pd.read_csv(\"./test_data.csv\").values\n",
    "train_data = pd.read_csv(\"./train_data.csv\").values\n",
    "train_labels = pd.read_csv(\"./train_labels.csv\").values\n",
    "\n",
    "# Use every second item of train_data as confirmation data set and every second as training set\n",
    "scaler.fit(train_data[::2])\n",
    "confirm_set = scaler.transform(train_data[::2])\n",
    "confirm_labels = np.ravel(train_labels[::2])\n",
    "train_set = scaler.transform(train_data[1::2])\n",
    "train_labels = np.ravel(train_labels[1::2])\n",
    "\n",
    "\n",
    "classes = [\n",
    "    \"Pop_Rock\",\n",
    "    \"Electronic\",\n",
    "    \"Rap\",\n",
    "    \"Jazz\",\n",
    "    \"Latin\",\n",
    "    \"RnB\",\n",
    "    \"International\",\n",
    "    \"Country\",\n",
    "    \"Reggae\",\n",
    "    \"Blues\"\n",
    "]\n",
    "unique, counts = np.unique(train_labels, return_counts=True)\n",
    "print(train_set.shape)\n",
    "fig, ax = plt.subplots(1, 1, figsize=(12, 6))\n",
    "hist = ax.bar(classes, counts)\n",
    "ax.set_xlabel(\"Class\")\n",
    "ax.set_ylabel(\"n of samples\")\n",
    "plt.show()"
   ]
  },
  {
   "cell_type": "code",
   "execution_count": 10,
   "metadata": {},
   "outputs": [],
   "source": [
    "# Load the data and cleanup\n",
    "\n",
    "# CLF.fit Takes to parameters data X shape(n_samples, n_features) and labels Y shape(n_samples\n",
    "def train_clf_with_params(solver, alpha, hidden_layer_sizes, random_state, X, Y):\n",
    "    clf = MLPClassifier(solver, alpha=alpha, hidden_layer_sizes=hidden_layer_sizes, random_state=random_state, shuffle=True)\n",
    "    clf.fit(X, Y)\n",
    "    return clf\n",
    "\n",
    "def test_clf(clf, X, Y_true):\n",
    "    Y_pred = clf.predict(X)\n",
    "    score = clf.score(X, Y_true)\n",
    "    Y_pred_proba = clf.predict_proba(X)\n",
    "    loss = log_loss(Y_true, Y_pred_proba)\n",
    "    return (score, loss)\n",
    "    \n",
    "    \n",
    "    "
   ]
  },
  {
   "cell_type": "code",
   "execution_count": 23,
   "metadata": {},
   "outputs": [
    {
     "name": "stdout",
     "output_type": "stream",
     "text": [
      "Starting iteration\n",
      "LOSS 4.170840575423494\n",
      "VALUE (5, 2)\n",
      "SCORE 0.5859697386519945\n",
      "VALUE (137,)\n"
     ]
    }
   ],
   "source": [
    "#Analysis of the input data\n",
    "# ...\n",
    "\n",
    "mean = int(np.mean([train_set.shape[1], 10]))\n",
    "# TEST MLC\n",
    "# data = zip(np.random.randint(1, high=train_set.shape[1], size=100), np.random.randint(1, high=train_set.shape[1], size=100))\n",
    "data = [\n",
    "    (mean, ),\n",
    "    (mean, 40, 12),\n",
    "    (mean, 12),\n",
    "    (5, 2),\n",
    "    (15,),\n",
    "]\n",
    "best_loss = 100\n",
    "best_score = 0\n",
    "best_score_val = 0\n",
    "best_loss_val = 0\n",
    "print(\"Starting iteration\")\n",
    "solvers = [\"lbfgs\", \"sgd\", \"adam\"]\n",
    "for s in solvers:\n",
    "    for tup in data:\n",
    "        clf = train_clf_with_params(1e-5, tup, 1, train_set, train_labels)\n",
    "        score, loss = test_clf(clf, confirm_set, confirm_labels)\n",
    "        if (score > best_score):\n",
    "            best_score = score\n",
    "            best_score_val = (tup, s)\n",
    "        if (best_loss > loss):\n",
    "            best_loss = loss\n",
    "            best_loss_val = (tup, s)\n",
    "print(\"LOSS \" + str(best_loss))\n",
    "print(\"VALUE \" + str(best_loss_val))\n",
    "print(\"SCORE \" + str(best_score))\n",
    "print(\"VALUE \" + str(best_score_val))\n"
   ]
  },
  {
   "cell_type": "markdown",
   "metadata": {},
   "source": [
    "## 3. Methods and experiments"
   ]
  },
  {
   "cell_type": "markdown",
   "metadata": {},
   "source": [
    "*- Explain your whole approach (you can include a block diagram showing the steps in your process).* \n",
    "\n",
    "*- What methods/algorithms, why were the methods chosen. *\n",
    "\n",
    "*- What evaluation methodology (cross CV, etc.).*\n",
    "\n"
   ]
  },
  {
   "cell_type": "code",
   "execution_count": 4,
   "metadata": {
    "collapsed": true
   },
   "outputs": [],
   "source": [
    "# Trials with ML algorithms"
   ]
  },
  {
   "cell_type": "markdown",
   "metadata": {},
   "source": [
    "## 4. Results"
   ]
  },
  {
   "cell_type": "markdown",
   "metadata": {},
   "source": [
    "*Summarize the results of the experiments without discussing their implications.*\n",
    "\n",
    "*- Include both performance measures (accuracy and LogLoss).*\n",
    "\n",
    "*- How does it perform on kaggle compared to the train data.*\n",
    "\n",
    "*- Include a confusion matrix.*\n",
    "\n"
   ]
  },
  {
   "cell_type": "code",
   "execution_count": 5,
   "metadata": {
    "collapsed": true
   },
   "outputs": [],
   "source": [
    "#Confusion matrix ..."
   ]
  },
  {
   "cell_type": "markdown",
   "metadata": {},
   "source": [
    "## 5. Discussion/Conclusions"
   ]
  },
  {
   "cell_type": "markdown",
   "metadata": {},
   "source": [
    "*Interpret and explain your results *\n",
    "\n",
    "*- Discuss the relevance of the performance measures (accuracy and LogLoss) for\n",
    "imbalanced multiclass datasets. *\n",
    "\n",
    "*- How the results relate to the literature. *\n",
    "\n",
    "*- Suggestions for future research/improvement. *\n",
    "\n",
    "*- Did the study answer your questions? *\n",
    "\n"
   ]
  },
  {
   "cell_type": "markdown",
   "metadata": {},
   "source": [
    "## 6. References"
   ]
  },
  {
   "cell_type": "markdown",
   "metadata": {},
   "source": [
    "*List of all the references cited in the document*"
   ]
  },
  {
   "cell_type": "markdown",
   "metadata": {},
   "source": [
    "## Appendix\n",
    "*Any additional material needed to complete the report can be included here. For example, if you want to keep  additional source code, additional images or plots, mathematical derivations, etc. The content should be relevant to the report and should help explain or visualize something mentioned earlier. **You can remove the whole Appendix section if there is no need for it.** *"
   ]
  },
  {
   "cell_type": "code",
   "execution_count": null,
   "metadata": {
    "collapsed": true
   },
   "outputs": [],
   "source": []
  }
 ],
 "metadata": {
  "kernelspec": {
   "display_name": "Python 3",
   "language": "python",
   "name": "python3"
  },
  "language_info": {
   "codemirror_mode": {
    "name": "ipython",
    "version": 3
   },
   "file_extension": ".py",
   "mimetype": "text/x-python",
   "name": "python",
   "nbconvert_exporter": "python",
   "pygments_lexer": "ipython3",
   "version": "3.7.0"
  }
 },
 "nbformat": 4,
 "nbformat_minor": 2
}
